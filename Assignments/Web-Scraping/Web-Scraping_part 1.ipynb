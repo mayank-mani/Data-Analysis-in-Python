{
 "cells": [
  {
   "cell_type": "markdown",
   "metadata": {},
   "source": [
    "#Part 1\n",
    "#Go to http://numbersapi.com and familiarize yourself with the API.\n",
    " Write a program that accesses all trivia results for the numbers from 0 (zero) to 99 using batch requests only (One single query for all the numbers). Print the output result to the screen in the format of [3-digit number with leading zeros] - [TRIVIA] (One number per each line)."
   ]
  },
  {
   "cell_type": "code",
   "execution_count": 59,
   "metadata": {},
   "outputs": [],
   "source": [
    "import pandas as pd\n",
    "import re\n",
    "import csv\n",
    "import requests\n",
    "import json"
   ]
  },
  {
   "cell_type": "code",
   "execution_count": 61,
   "metadata": {},
   "outputs": [],
   "source": [
    "numbers_url = \"http://www.numbersapi.com/0..99/trivia\""
   ]
  },
  {
   "cell_type": "code",
   "execution_count": 62,
   "metadata": {},
   "outputs": [],
   "source": [
    "response = requests.get(numbers_url)"
   ]
  },
  {
   "cell_type": "code",
   "execution_count": 63,
   "metadata": {},
   "outputs": [
    {
     "name": "stdout",
     "output_type": "stream",
     "text": [
      "<Response [200]>\n"
     ]
    }
   ],
   "source": [
    "print(response)"
   ]
  },
  {
   "cell_type": "code",
   "execution_count": 64,
   "metadata": {},
   "outputs": [
    {
     "name": "stdout",
     "output_type": "stream",
     "text": [
      "{\n",
      " \"0\": \"0 is the coldest possible temperature old the Kelvin scale.\",\n",
      " \"1\": \"1 is the number of dimensions of a line.\",\n",
      " \"2\": \"2 is the number of polynucleotide strands in a DNA double helix.\",\n",
      " \"3\": \"3 is cans of Spam consumed every second in the United States.\",\n",
      " \"4\": \"4 is the maximal number of horses in one row for carriage.\",\n",
      " \"5\": \"5 is the number of basic tastes (sweet, salty, sour, bitter, and umami).\",\n",
      " \"6\": \"6 is the number of days taken to create the world by Yahweh in the Old Testament Book of Genesis, and the number of the day on which humankind were created.\",\n",
      " \"7\": \"7 is the number of periods, or horizontal rows of elements, in the periodic table.\",\n",
      " \"8\": \"8 is the number of bits in a byte.\",\n",
      " \"9\": \"9 is the number of innings in a regulation, non-tied game of baseball.\",\n",
      " \"10\": \"10 is the number of kingdoms in Five Dynasties and Ten Kingdoms Period.\",\n",
      " \"11\": \"11 is the number of denominations of Canadian currency produced in large quantities.\",\n",
      " \"12\": \"12 is the number of pence in a shilling in the former British currency system.\",\n",
      " \"13\": \"13 is the number of unique ranks in a suit in a pack of cards.\",\n",
      " \"14\": \"14 is the minimum age at which one can work in many U.S states.\",\n",
      " \"15\": \"15 is the number of letters in the words \\\"uncopyrightable\\\", \\\"dermatoglyphics\\\", \\\"misconjugatedly\\\", and \\\"hydropneumatics\\\", the longest English words with no repeat letters.\",\n",
      " \"16\": \"16 is the number of teams that qualified for the finals of the FIFA World Cup from 1934 through 1978 (although for various reasons, only 15 competed in the 1938 and 1950 finals).\",\n",
      " \"17\": \"17 is the number of syllables in a haiku (5+7+5).\",\n",
      " \"18\": \"18 is the number of holes in a stipulated round of golf.\",\n",
      " \"19\": \"19 is the number of years in 235 lunations.\",\n",
      " \"20\": \"20 is the number of questions in the popular party game Twenty Questions.\",\n",
      " \"21\": \"21 is the number of demands which were sent to the Chinese government by the Japanese government of Okuma Shigenobu in 1915.\",\n",
      " \"22\": \"22 is the typical length in minutes of a half hour sitcom not including commercials.\",\n",
      " \"23\": \"23 is the number of enigma that plays a prominent role in the plot of The Illuminatus! Trilogy by Robert Shea and Robert Anton Wilson.\",\n",
      " \"24\": \"24 is the number of carats representing 100% pure gold.\",\n",
      " \"25\": \"25 is the minimum age of candidates for election to the United States House of Representatives.\",\n",
      " \"26\": \"26 is the number of letters in the Latin-derived English alphabet.\",\n",
      " \"27\": \"27 is the number of bones in the human hand.\",\n",
      " \"28\": \"28 is the number of a car formerly run in the NASCAR Sprint Cup Series by Yates Racing.\",\n",
      " \"29\": \"29 is the number of cups of milk needed to make one pound of butter.\",\n",
      " \"30\": \"30 is the number of days in the months April, June, September and November (and in unusual circumstances February).\",\n",
      " \"31\": \"31 is the number of musical triads (12 major, 12 minor, 4 diminished, and 3 augmented).\",\n",
      " \"32\": \"32 is the size, in bits, of certain integer data types, used in computer representations of numbers.\",\n",
      " \"33\": \"33 is the number of workers trapped, and also the number of survivors of the 2010 Copiapó mining accident.\",\n",
      " \"34\": \"34 is the lucky number of Victor Pelevin's protagonist Stepan Mikhailov in the novel Numbers.\",\n",
      " \"35\": \"35 is the percentage of all bingo players are under the age of 35.\",\n",
      " \"36\": \"36 is the perfect score on the ACT.\",\n",
      " \"37\": \"37 is the number of slots in European Roulette (numbered 0 through 36, the 00 is not used in European roulette as it is in American roulette).\",\n",
      " \"38\": \"38 is the number of years it took the Israelites to travel from Kadesh Barnea to the Zered valley in Deuteronomy.\",\n",
      " \"39\": \"39 is the number of signers to the United States Constitution, out of 55 members of the Philadelphia Convention delegates.\",\n",
      " \"40\": \"40 is the number of eggs that female alligators lay, which hatch in 60 - 70 days.\",\n",
      " \"41\": \"41 is the number of members in the U.S. Senate needed to defeat a cloture vote and sustain a filibuster indefinitely.\",\n",
      " \"42\": \"42 is the sum of the codes of the letters in the words \\\"BIG BANG\\\" using the encoding A=1, B=2, C=3, etc.\",\n",
      " \"43\": \"43 is the maximum number of cars participating in a NASCAR race in the Cup Series or Nationwide Series.\",\n",
      " \"44\": \"44 is the number of candles in a box of Hanukkah candles.\",\n",
      " \"45\": \"45 is the sapphire wedding anniversary in years of marriage.\",\n",
      " \"46\": \"46 is the number of slices of pizza an average American kid eats in a year.\",\n",
      " \"47\": \"47 is the total numbers of balloons that a player can collect in Rareware's Nintendo 64 game Diddy Kong Racing.\",\n",
      " \"48\": \"48 is the number of Ptolemaic constellations.\",\n",
      " \"49\": \"49 is the number of days and night Siddhartha Gautama spent meditating as a holy man.\",\n",
      " \"50\": \"50 is the gold or \\\"golden\\\" wedding anniversary in years of marriage.\",\n",
      " \"51\": \"51 is the atomic number of antimony.\",\n",
      " \"52\": \"52 is the number of letters in the English alphabet, if majuscules are distinguished from minuscules.\",\n",
      " \"53\": \"53 is the total number of national football associations of UEFA.\",\n",
      " \"54\": \"54 is the number of countries in Africa.\",\n",
      " \"55\": \"55 is the percentage of movies released that are Rated R.\",\n",
      " \"56\": \"56 is the maximum speed of analog data transmission over a POTS in the 20th century measured in kbit/s.\",\n",
      " \"57\": \"57 is the number of cm that the smallest man measured, Gul Mohammed (1957-1997) of India.\",\n",
      " \"58\": \"58 is the number of usable cells on a Hexxagon game board.\",\n",
      " \"59\": \"59 is the number on a button commonly worn by feminist activists in the 1970s (based on the claim that a woman earned 59 cents to an equally qualified man's dollar).\",\n",
      " \"60\": \"60 is the total number of cards in the game Racko.\",\n",
      " \"61\": \"61 is the code for international direct dial phone calls to Australia.\",\n",
      " \"62\": \"62 is the number which Sigmund Freud has an irrational fear of.\",\n",
      " \"63\": \"63 is the number of groats in a guinea in British pre-decimal currency.\",\n",
      " \"64\": \"64 is number of golden disks in the myth of the Tower of Hanoi.\",\n",
      " \"65\": \"65 is the traditional age for retirement in the United Kingdom, Germany and other countries.\",\n",
      " \"66\": \"66 is the total number of books in the Protestant edition of the Bible (Old Testament and New Testament) combined.\",\n",
      " \"67\": \"67 is the number of throws in Judo.\",\n",
      " \"68\": \"68 is the ideal temperature (F) for developing black-and-white film.\",\n",
      " \"69\": \"69 is the atomic number of thulium, a lanthanide.\",\n",
      " \"70\": \"70 is the distance (meter) from archer to targets in Olympic Archery.\",\n",
      " \"71\": \"71 is the number of different characters that can be used with a standard English Keyboard, excluding uppercase letters.\",\n",
      " \"72\": \"72 is the life duration of the ovule in hours.\",\n",
      " \"73\": \"73 is the length of the Arecibo message sent to space in search for extraterrestrial intelligence.\",\n",
      " \"74\": \"74 is the atomic number of tungsten.\",\n",
      " \"75\": \"75 is the age limit for Canadian senators.\",\n",
      " \"76\": \"76 is the atomic number of osmium.\",\n",
      " \"77\": \"77 is the atomic number of iridium.\",\n",
      " \"78\": \"78 is the number of lines that make up Metatron's Cube.\",\n",
      " \"79\": \"79 is the record for cumulative weeks at #1 on the Billboard charts, held by Elvis Presley.\",\n",
      " \"80\": \"80 is the length (years) of the Eighty Years' War (1568–1648).\",\n",
      " \"81\": \"81 is the number of squares on a shogi playing board.\",\n",
      " \"82\": \"82 is the number of games in an NBA or NHL regular season.\",\n",
      " \"83\": \"83 is the atomic number of bismuth.\",\n",
      " \"84\": \"84 is the atomic number of polonium.\",\n",
      " \"85\": \"85 is the atomic number of astatine.\",\n",
      " \"86\": \"86 is the device number for a lockout relay function in electrical circuit protection schemes.\",\n",
      " \"87\": \"87 is the number of tools in the Wenger Swiss Army Knife version XXL, listed in the Guinness Book of World Records as the world's most multi-functional penknife.\",\n",
      " \"88\": \"88 is the approximate number of days it takes Mercury to complete its orbit.\",\n",
      " \"89\": \"89 is the atomic number of actinium.\",\n",
      " \"90\": \"90 is the latitude of the North Pole and the South Pole.\",\n",
      " \"91\": \"91 is the code for international direct dial phone calls to India.\",\n",
      " \"92\": \"92 is the number of stories in the Xujiahui Tower proposed to be built in Shanghai, China.\",\n",
      " \"93\": \"93 is the atomic number of neptunium.\",\n",
      " \"94\": \"94 is the length of an NBA court in feet.\",\n",
      " \"95\": \"95 is the percentage confidence interval that is considered satisfactory for most purposes in statistics.\",\n",
      " \"96\": \"96 is the rating of Skyrim on metacritic.com.\",\n",
      " \"97\": \"97 is the atomic number of berkelium.\",\n",
      " \"98\": \"98 is the temperature (F) of the normal body.\",\n",
      " \"99\": \"99 is the highest jersey number allowed in most major league sports.\"\n",
      "}\n"
     ]
    }
   ],
   "source": [
    "print(response.text)"
   ]
  },
  {
   "cell_type": "code",
   "execution_count": 66,
   "metadata": {},
   "outputs": [],
   "source": [
    "trivia = json.loads(response.text)"
   ]
  },
  {
   "cell_type": "code",
   "execution_count": 67,
   "metadata": {},
   "outputs": [
    {
     "name": "stdout",
     "output_type": "stream",
     "text": [
      "100\n"
     ]
    }
   ],
   "source": [
    "print(len(trivia))"
   ]
  },
  {
   "cell_type": "code",
   "execution_count": 68,
   "metadata": {},
   "outputs": [
    {
     "name": "stdout",
     "output_type": "stream",
     "text": [
      "000 - 0 is the coldest possible temperature old the Kelvin scale.\n",
      "001 - 1 is the number of dimensions of a line.\n",
      "002 - 2 is the number of polynucleotide strands in a DNA double helix.\n",
      "003 - 3 is cans of Spam consumed every second in the United States.\n",
      "004 - 4 is the maximal number of horses in one row for carriage.\n",
      "005 - 5 is the number of basic tastes (sweet, salty, sour, bitter, and umami).\n",
      "006 - 6 is the number of days taken to create the world by Yahweh in the Old Testament Book of Genesis, and the number of the day on which humankind were created.\n",
      "007 - 7 is the number of periods, or horizontal rows of elements, in the periodic table.\n",
      "008 - 8 is the number of bits in a byte.\n",
      "009 - 9 is the number of innings in a regulation, non-tied game of baseball.\n",
      "010 - 10 is the number of kingdoms in Five Dynasties and Ten Kingdoms Period.\n",
      "011 - 11 is the number of denominations of Canadian currency produced in large quantities.\n",
      "012 - 12 is the number of pence in a shilling in the former British currency system.\n",
      "013 - 13 is the number of unique ranks in a suit in a pack of cards.\n",
      "014 - 14 is the minimum age at which one can work in many U.S states.\n",
      "015 - 15 is the number of letters in the words \"uncopyrightable\", \"dermatoglyphics\", \"misconjugatedly\", and \"hydropneumatics\", the longest English words with no repeat letters.\n",
      "016 - 16 is the number of teams that qualified for the finals of the FIFA World Cup from 1934 through 1978 (although for various reasons, only 15 competed in the 1938 and 1950 finals).\n",
      "017 - 17 is the number of syllables in a haiku (5+7+5).\n",
      "018 - 18 is the number of holes in a stipulated round of golf.\n",
      "019 - 19 is the number of years in 235 lunations.\n",
      "020 - 20 is the number of questions in the popular party game Twenty Questions.\n",
      "021 - 21 is the number of demands which were sent to the Chinese government by the Japanese government of Okuma Shigenobu in 1915.\n",
      "022 - 22 is the typical length in minutes of a half hour sitcom not including commercials.\n",
      "023 - 23 is the number of enigma that plays a prominent role in the plot of The Illuminatus! Trilogy by Robert Shea and Robert Anton Wilson.\n",
      "024 - 24 is the number of carats representing 100% pure gold.\n",
      "025 - 25 is the minimum age of candidates for election to the United States House of Representatives.\n",
      "026 - 26 is the number of letters in the Latin-derived English alphabet.\n",
      "027 - 27 is the number of bones in the human hand.\n",
      "028 - 28 is the number of a car formerly run in the NASCAR Sprint Cup Series by Yates Racing.\n",
      "029 - 29 is the number of cups of milk needed to make one pound of butter.\n",
      "030 - 30 is the number of days in the months April, June, September and November (and in unusual circumstances February).\n",
      "031 - 31 is the number of musical triads (12 major, 12 minor, 4 diminished, and 3 augmented).\n",
      "032 - 32 is the size, in bits, of certain integer data types, used in computer representations of numbers.\n",
      "033 - 33 is the number of workers trapped, and also the number of survivors of the 2010 Copiapó mining accident.\n",
      "034 - 34 is the lucky number of Victor Pelevin's protagonist Stepan Mikhailov in the novel Numbers.\n",
      "035 - 35 is the percentage of all bingo players are under the age of 35.\n",
      "036 - 36 is the perfect score on the ACT.\n",
      "037 - 37 is the number of slots in European Roulette (numbered 0 through 36, the 00 is not used in European roulette as it is in American roulette).\n",
      "038 - 38 is the number of years it took the Israelites to travel from Kadesh Barnea to the Zered valley in Deuteronomy.\n",
      "039 - 39 is the number of signers to the United States Constitution, out of 55 members of the Philadelphia Convention delegates.\n",
      "040 - 40 is the number of eggs that female alligators lay, which hatch in 60 - 70 days.\n",
      "041 - 41 is the number of members in the U.S. Senate needed to defeat a cloture vote and sustain a filibuster indefinitely.\n",
      "042 - 42 is the sum of the codes of the letters in the words \"BIG BANG\" using the encoding A=1, B=2, C=3, etc.\n",
      "043 - 43 is the maximum number of cars participating in a NASCAR race in the Cup Series or Nationwide Series.\n",
      "044 - 44 is the number of candles in a box of Hanukkah candles.\n",
      "045 - 45 is the sapphire wedding anniversary in years of marriage.\n",
      "046 - 46 is the number of slices of pizza an average American kid eats in a year.\n",
      "047 - 47 is the total numbers of balloons that a player can collect in Rareware's Nintendo 64 game Diddy Kong Racing.\n",
      "048 - 48 is the number of Ptolemaic constellations.\n",
      "049 - 49 is the number of days and night Siddhartha Gautama spent meditating as a holy man.\n",
      "050 - 50 is the gold or \"golden\" wedding anniversary in years of marriage.\n",
      "051 - 51 is the atomic number of antimony.\n",
      "052 - 52 is the number of letters in the English alphabet, if majuscules are distinguished from minuscules.\n",
      "053 - 53 is the total number of national football associations of UEFA.\n",
      "054 - 54 is the number of countries in Africa.\n",
      "055 - 55 is the percentage of movies released that are Rated R.\n",
      "056 - 56 is the maximum speed of analog data transmission over a POTS in the 20th century measured in kbit/s.\n",
      "057 - 57 is the number of cm that the smallest man measured, Gul Mohammed (1957-1997) of India.\n",
      "058 - 58 is the number of usable cells on a Hexxagon game board.\n",
      "059 - 59 is the number on a button commonly worn by feminist activists in the 1970s (based on the claim that a woman earned 59 cents to an equally qualified man's dollar).\n",
      "060 - 60 is the total number of cards in the game Racko.\n",
      "061 - 61 is the code for international direct dial phone calls to Australia.\n",
      "062 - 62 is the number which Sigmund Freud has an irrational fear of.\n",
      "063 - 63 is the number of groats in a guinea in British pre-decimal currency.\n",
      "064 - 64 is number of golden disks in the myth of the Tower of Hanoi.\n",
      "065 - 65 is the traditional age for retirement in the United Kingdom, Germany and other countries.\n",
      "066 - 66 is the total number of books in the Protestant edition of the Bible (Old Testament and New Testament) combined.\n",
      "067 - 67 is the number of throws in Judo.\n",
      "068 - 68 is the ideal temperature (F) for developing black-and-white film.\n",
      "069 - 69 is the atomic number of thulium, a lanthanide.\n",
      "070 - 70 is the distance (meter) from archer to targets in Olympic Archery.\n",
      "071 - 71 is the number of different characters that can be used with a standard English Keyboard, excluding uppercase letters.\n",
      "072 - 72 is the life duration of the ovule in hours.\n",
      "073 - 73 is the length of the Arecibo message sent to space in search for extraterrestrial intelligence.\n",
      "074 - 74 is the atomic number of tungsten.\n",
      "075 - 75 is the age limit for Canadian senators.\n",
      "076 - 76 is the atomic number of osmium.\n",
      "077 - 77 is the atomic number of iridium.\n",
      "078 - 78 is the number of lines that make up Metatron's Cube.\n",
      "079 - 79 is the record for cumulative weeks at #1 on the Billboard charts, held by Elvis Presley.\n",
      "080 - 80 is the length (years) of the Eighty Years' War (1568–1648).\n",
      "081 - 81 is the number of squares on a shogi playing board.\n",
      "082 - 82 is the number of games in an NBA or NHL regular season.\n",
      "083 - 83 is the atomic number of bismuth.\n",
      "084 - 84 is the atomic number of polonium.\n",
      "085 - 85 is the atomic number of astatine.\n",
      "086 - 86 is the device number for a lockout relay function in electrical circuit protection schemes.\n",
      "087 - 87 is the number of tools in the Wenger Swiss Army Knife version XXL, listed in the Guinness Book of World Records as the world's most multi-functional penknife.\n",
      "088 - 88 is the approximate number of days it takes Mercury to complete its orbit.\n",
      "089 - 89 is the atomic number of actinium.\n",
      "090 - 90 is the latitude of the North Pole and the South Pole.\n",
      "091 - 91 is the code for international direct dial phone calls to India.\n",
      "092 - 92 is the number of stories in the Xujiahui Tower proposed to be built in Shanghai, China.\n",
      "093 - 93 is the atomic number of neptunium.\n",
      "094 - 94 is the length of an NBA court in feet.\n",
      "095 - 95 is the percentage confidence interval that is considered satisfactory for most purposes in statistics.\n",
      "096 - 96 is the rating of Skyrim on metacritic.com.\n",
      "097 - 97 is the atomic number of berkelium.\n",
      "098 - 98 is the temperature (F) of the normal body.\n",
      "099 - 99 is the highest jersey number allowed in most major league sports.\n"
     ]
    }
   ],
   "source": [
    "for x in range(100):\n",
    "    print(\"%03d\"%x + \" - \" + trivia[str(x)])"
   ]
  },
  {
   "cell_type": "code",
   "execution_count": 72,
   "metadata": {},
   "outputs": [
    {
     "name": "stdout",
     "output_type": "stream",
     "text": [
      "1 is the number of dimensions of a line.\n"
     ]
    }
   ],
   "source": []
  },
  {
   "cell_type": "code",
   "execution_count": null,
   "metadata": {},
   "outputs": [],
   "source": []
  }
 ],
 "metadata": {
  "kernelspec": {
   "display_name": "Python 3",
   "language": "python",
   "name": "python3"
  },
  "language_info": {
   "codemirror_mode": {
    "name": "ipython",
    "version": 3
   },
   "file_extension": ".py",
   "mimetype": "text/x-python",
   "name": "python",
   "nbconvert_exporter": "python",
   "pygments_lexer": "ipython3",
   "version": "3.7.3"
  }
 },
 "nbformat": 4,
 "nbformat_minor": 2
}
